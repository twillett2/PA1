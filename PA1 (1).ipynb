{
 "cells": [
  {
   "cell_type": "markdown",
   "id": "2d731716",
   "metadata": {},
   "source": [
    "# Tyler Willett, Markdown Practice, Assignment 1, CS150, FA 2023"
   ]
  },
  {
   "cell_type": "markdown",
   "id": "c0329744",
   "metadata": {},
   "source": [
    "# Tyler Willett - Markdown Practice"
   ]
  },
  {
   "cell_type": "markdown",
   "id": "0b253fcd",
   "metadata": {},
   "source": [
    "### I have been interested in coding since high school, however, I had previously been too intimidated to learn about it."
   ]
  },
  {
   "cell_type": "markdown",
   "id": "d5d219c5",
   "metadata": {},
   "source": [
    "* Programming Assignments\n",
    "* Quizzes\n",
    "* Attendance/ In-class completed notebook submission\n",
    "* Mid-Term Exam\n",
    "* Project\n"
   ]
  },
  {
   "cell_type": "markdown",
   "id": "8fce8199",
   "metadata": {},
   "source": [
    "1. Course Introduction\n",
    "2. Variables ans Simple Data Types\n",
    "3. Introducing Lists, Tuples\n",
    "4. Lists, Tuples cont.\n",
    "5. If statements\n",
    "6. Loops\n",
    "7. Loops cont.\n",
    "8. String Class\n",
    "9. Funtions\n",
    "10. Classes\n",
    "11. Numpy\n",
    "12. Project 1 presentation\n",
    "13. Numpy for Data Analysis\n",
    "14. project 2 Discussion\n",
    "15. Individual Topics Presentation\n",
    "16. Midterm 2\n",
    "17. Final Project Presentation"
   ]
  },
  {
   "cell_type": "markdown",
   "id": "988b1f52",
   "metadata": {},
   "source": [
    "**Python**"
   ]
  },
  {
   "cell_type": "markdown",
   "id": "8e9eebfd",
   "metadata": {},
   "source": [
    "*Anaconda*"
   ]
  },
  {
   "cell_type": "markdown",
   "id": "17967c33",
   "metadata": {},
   "source": [
    "I am `in class right now`, I will call you later."
   ]
  },
  {
   "cell_type": "markdown",
   "id": "c662a227",
   "metadata": {},
   "source": [
    "Here is a link to my GitHub account <https://github.com/twillett2>"
   ]
  },
  {
   "cell_type": "markdown",
   "id": "783b1fde",
   "metadata": {},
   "source": [
    "![Bellarmine Logo](https://www.bellarmine.edu/sf-images/default-source/about/bellarmine-university-white-maroon-bg.jpg?sfvrsn=b9867180_0)"
   ]
  },
  {
   "cell_type": "markdown",
   "id": "8c60e852",
   "metadata": {},
   "source": [
    "In this Markdown practice, I learned how to use some of the various markdown syntax that is supported by Jupyter NB. This enabled me to do things like render images, make words bold or italics, create bullet and ordered lists, highlight words, and creaate headings. The hardest part of this practice for me was rendering the image."
   ]
  }
 ],
 "metadata": {
  "kernelspec": {
   "display_name": "Python 3 (ipykernel)",
   "language": "python",
   "name": "python3"
  },
  "language_info": {
   "codemirror_mode": {
    "name": "ipython",
    "version": 3
   },
   "file_extension": ".py",
   "mimetype": "text/x-python",
   "name": "python",
   "nbconvert_exporter": "python",
   "pygments_lexer": "ipython3",
   "version": "3.11.4"
  }
 },
 "nbformat": 4,
 "nbformat_minor": 5
}
